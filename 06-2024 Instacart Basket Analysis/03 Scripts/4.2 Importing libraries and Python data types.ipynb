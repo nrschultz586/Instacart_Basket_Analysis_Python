{
 "cells": [
  {
   "cell_type": "markdown",
   "id": "c0c5c2bb-79a2-415c-be23-189a6cbd76eb",
   "metadata": {},
   "source": [
    "# Table of Contents\n",
    "- Importing Libraries\n",
    "- Importing Data"
   ]
  },
  {
   "cell_type": "markdown",
   "id": "346d32ca-5230-411b-9ddd-8805b71ddc03",
   "metadata": {},
   "source": [
    "# 01. Importing libraries"
   ]
  },
  {
   "cell_type": "code",
   "execution_count": 29,
   "id": "cfe5e62b-e2e3-45f5-a5a0-f644b33d7066",
   "metadata": {},
   "outputs": [],
   "source": [
    "# Import libraries\n",
    "import pandas as pd\n",
    "import numpy as np\n",
    "import os"
   ]
  },
  {
   "cell_type": "markdown",
   "id": "bd1215f7-8853-4d6f-8066-4d22d003c91c",
   "metadata": {},
   "source": [
    "# 02. Data Types"
   ]
  },
  {
   "cell_type": "code",
   "execution_count": 36,
   "id": "2773c312-8249-4a98-934f-6ad07e7d4ca0",
   "metadata": {},
   "outputs": [],
   "source": [
    "# Code 3 different ways of reaching a result of 100 by adding or subtracting numeric variables.\n",
    "x = 50\n",
    "y = 50"
   ]
  },
  {
   "cell_type": "code",
   "execution_count": 32,
   "id": "4cb6a1dd-80da-42cb-b30b-7b30d8d5da7f",
   "metadata": {},
   "outputs": [
    {
     "data": {
      "text/plain": [
       "100"
      ]
     },
     "execution_count": 32,
     "metadata": {},
     "output_type": "execute_result"
    }
   ],
   "source": [
    "x+50"
   ]
  },
  {
   "cell_type": "code",
   "execution_count": 33,
   "id": "475c8ded-b52d-4a6f-8935-cacbaa258f09",
   "metadata": {},
   "outputs": [
    {
     "data": {
      "text/plain": [
       "100"
      ]
     },
     "execution_count": 33,
     "metadata": {},
     "output_type": "execute_result"
    }
   ],
   "source": [
    "y+50"
   ]
  },
  {
   "cell_type": "code",
   "execution_count": 34,
   "id": "347f5339-2400-449e-ac18-260453245222",
   "metadata": {},
   "outputs": [
    {
     "data": {
      "text/plain": [
       "100"
      ]
     },
     "execution_count": 34,
     "metadata": {},
     "output_type": "execute_result"
    }
   ],
   "source": [
    "x+y"
   ]
  },
  {
   "cell_type": "code",
   "execution_count": 37,
   "id": "555678fe-8778-44c9-8593-6491492940cd",
   "metadata": {},
   "outputs": [],
   "source": [
    "# Code 2 floating-point variables and divide them by each other\n",
    "x=2.50\n",
    "y=0.50"
   ]
  },
  {
   "cell_type": "code",
   "execution_count": 38,
   "id": "62b393fa-4ec1-4394-9787-ac9a13506b8e",
   "metadata": {},
   "outputs": [
    {
     "data": {
      "text/plain": [
       "5.0"
      ]
     },
     "execution_count": 38,
     "metadata": {},
     "output_type": "execute_result"
    }
   ],
   "source": [
    "x / y"
   ]
  },
  {
   "cell_type": "code",
   "execution_count": 40,
   "id": "2580cb0b-a0dc-4eaa-ad5a-208c8e65d8db",
   "metadata": {},
   "outputs": [],
   "source": [
    "# Construct a short word made of separate strings (you’ll need to concatenate some strings!)\n",
    "a = 'foot'\n",
    "b = 'ball'"
   ]
  },
  {
   "cell_type": "code",
   "execution_count": 41,
   "id": "1b21ce1b-6f13-4e4a-952e-41c691f1b234",
   "metadata": {},
   "outputs": [
    {
     "data": {
      "text/plain": [
       "'football'"
      ]
     },
     "execution_count": 41,
     "metadata": {},
     "output_type": "execute_result"
    }
   ],
   "source": [
    "a + b"
   ]
  },
  {
   "cell_type": "code",
   "execution_count": 49,
   "id": "282919cf-ebc5-4716-84e3-1bbbf4770ab0",
   "metadata": {},
   "outputs": [],
   "source": [
    "# Construct 2 short sentences made of separate strings.\n",
    "a = 'The dog jumped over the fence. '\n",
    "b = 'Then the dog came back.'"
   ]
  },
  {
   "cell_type": "code",
   "execution_count": 50,
   "id": "ad81d57c-2915-464a-8d52-039c76cc5c5e",
   "metadata": {},
   "outputs": [
    {
     "data": {
      "text/plain": [
       "'The dog jumped over the fence. Then the dog came back.'"
      ]
     },
     "execution_count": 50,
     "metadata": {},
     "output_type": "execute_result"
    }
   ],
   "source": [
    "a+b"
   ]
  },
  {
   "cell_type": "code",
   "execution_count": 45,
   "id": "b0aa88d9-cd0b-4142-ac17-f27692356660",
   "metadata": {},
   "outputs": [],
   "source": [
    "n = 'potato '"
   ]
  },
  {
   "cell_type": "code",
   "execution_count": 46,
   "id": "f4dd786a-be1a-4d56-9540-e40d1b876aaa",
   "metadata": {},
   "outputs": [
    {
     "data": {
      "text/plain": [
       "'potato potato potato potato potato potato potato potato potato potato potato potato potato potato potato potato potato potato potato potato potato potato potato potato potato potato potato potato potato potato potato potato potato potato potato potato potato potato potato potato potato potato potato potato potato potato potato potato potato potato potato potato potato potato potato potato potato potato potato potato potato potato potato potato potato potato potato potato potato potato potato potato potato potato potato potato potato potato potato potato potato potato potato potato potato potato potato potato potato potato potato potato potato potato potato potato potato potato potato potato '"
      ]
     },
     "execution_count": 46,
     "metadata": {},
     "output_type": "execute_result"
    }
   ],
   "source": [
    "n*100"
   ]
  },
  {
   "cell_type": "code",
   "execution_count": null,
   "id": "91a517c1-90e6-4dfe-b555-8951216c010a",
   "metadata": {},
   "outputs": [],
   "source": []
  }
 ],
 "metadata": {
  "kernelspec": {
   "display_name": "Python 3 (ipykernel)",
   "language": "python",
   "name": "python3"
  },
  "language_info": {
   "codemirror_mode": {
    "name": "ipython",
    "version": 3
   },
   "file_extension": ".py",
   "mimetype": "text/x-python",
   "name": "python",
   "nbconvert_exporter": "python",
   "pygments_lexer": "ipython3",
   "version": "3.11.7"
  }
 },
 "nbformat": 4,
 "nbformat_minor": 5
}
