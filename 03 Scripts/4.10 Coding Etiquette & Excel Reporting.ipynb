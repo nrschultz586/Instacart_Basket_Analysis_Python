{
 "cells": [
  {
   "cell_type": "markdown",
   "id": "561f3e06-0f7b-4fbf-a5c4-a4e98dc1788e",
   "metadata": {},
   "source": [
    "# Table of Contents\n",
    "- 01. Importing Libraries\n",
    "- Using Excel with Python\n",
    "   - Crosstabs in Python"
   ]
  },
  {
   "cell_type": "markdown",
   "id": "c8d71909-6ac3-4188-8099-1162189fb0e1",
   "metadata": {},
   "source": [
    "# 01. Importing Libraries"
   ]
  },
  {
   "cell_type": "code",
   "execution_count": 2,
   "id": "0ebd0f05-5d95-4cb0-abd8-85b1cdaa0208",
   "metadata": {},
   "outputs": [],
   "source": [
    "import pandas as pd\n",
    "import numpy as np\n",
    "import os\n",
    "import matplotlib.pyplot as plt\n",
    "import seaborn as sns\n",
    "import scipy"
   ]
  },
  {
   "cell_type": "code",
   "execution_count": 4,
   "id": "5f431d33-104e-4337-87e0-f9e5129f3a51",
   "metadata": {},
   "outputs": [],
   "source": [
    "path = r'C:\\Users\\nrsmi\\OneDrive\\Documents\\CareerFoundry\\06-2024 Instacart Basket Analysis\\Python\\06-2024 Instacart Basket Analysis'\n",
    "df = pd.read_pickle(os.path.join(path, '02 Data', 'Prepared Data', 'ords_prods_customer_agg.pkl'))"
   ]
  },
  {
   "cell_type": "markdown",
   "id": "8abafa79-e539-4e38-b2af-742ac86e7fda",
   "metadata": {},
   "source": [
    "# Using Excel with Python"
   ]
  },
  {
   "cell_type": "markdown",
   "id": "e4184be6-c647-4ee8-96a2-88cf2bb335ae",
   "metadata": {},
   "source": [
    "## Crosstabs in Python"
   ]
  },
  {
   "cell_type": "code",
   "execution_count": 7,
   "id": "506fa1f7-a9f7-47b0-a965-373d3953d5a1",
   "metadata": {},
   "outputs": [],
   "source": [
    "crosstab = pd.crosstab(df['days_since_prior_order'], df['order_number'], dropna = False)"
   ]
  },
  {
   "cell_type": "code",
   "execution_count": 9,
   "id": "7453e267-50d8-416e-9ec1-76755e8386db",
   "metadata": {},
   "outputs": [],
   "source": [
    "crosstab.to_clipboard()"
   ]
  },
  {
   "cell_type": "markdown",
   "id": "629fff96-3f70-4298-8f55-775e1203359e",
   "metadata": {},
   "source": []
  }
 ],
 "metadata": {
  "kernelspec": {
   "display_name": "Python 3 (ipykernel)",
   "language": "python",
   "name": "python3"
  },
  "language_info": {
   "codemirror_mode": {
    "name": "ipython",
    "version": 3
   },
   "file_extension": ".py",
   "mimetype": "text/x-python",
   "name": "python",
   "nbconvert_exporter": "python",
   "pygments_lexer": "ipython3",
   "version": "3.11.7"
  }
 },
 "nbformat": 4,
 "nbformat_minor": 5
}
